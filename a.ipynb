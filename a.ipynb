{
 "cells": [
  {
   "cell_type": "code",
   "execution_count": 4,
   "metadata": {},
   "outputs": [],
   "source": [
    "from langchain_community.document_loaders.csv_loader import CSVLoader\n",
    "from langchain_openai.embeddings import OpenAIEmbeddings\n",
    "from langchain_chroma import Chroma\n",
    "from langchain_openai import ChatOpenAI\n",
    "from langchain.chains import RetrievalQA"
   ]
  },
  {
   "cell_type": "code",
   "execution_count": 5,
   "metadata": {},
   "outputs": [],
   "source": [
    "# load the csv\n",
    "loder = CSVLoader('train (1).csv', autodetect_encoding= True)"
   ]
  },
  {
   "cell_type": "code",
   "execution_count": 6,
   "metadata": {},
   "outputs": [],
   "source": [
    "documents = loder.load()"
   ]
  },
  {
   "cell_type": "code",
   "execution_count": 7,
   "metadata": {},
   "outputs": [
    {
     "data": {
      "text/plain": [
       "129"
      ]
     },
     "execution_count": 7,
     "metadata": {},
     "output_type": "execute_result"
    }
   ],
   "source": [
    "len(documents)"
   ]
  },
  {
   "cell_type": "code",
   "execution_count": 8,
   "metadata": {},
   "outputs": [],
   "source": [
    "persist_dir = \"csv_db\""
   ]
  },
  {
   "cell_type": "code",
   "execution_count": 9,
   "metadata": {},
   "outputs": [],
   "source": [
    "embeddings = OpenAIEmbeddings()"
   ]
  },
  {
   "cell_type": "code",
   "execution_count": 10,
   "metadata": {},
   "outputs": [],
   "source": [
    "vector_store = Chroma.from_documents(\n",
    "    documents= documents,\n",
    "    embedding= embeddings,\n",
    "    persist_directory= persist_dir\n",
    ")"
   ]
  },
  {
   "cell_type": "code",
   "execution_count": 11,
   "metadata": {},
   "outputs": [],
   "source": [
    "retriver = vector_store.as_retriever()"
   ]
  },
  {
   "cell_type": "code",
   "execution_count": 12,
   "metadata": {},
   "outputs": [],
   "source": [
    "from dotenv import load_dotenv"
   ]
  },
  {
   "cell_type": "code",
   "execution_count": 13,
   "metadata": {},
   "outputs": [
    {
     "data": {
      "text/plain": [
       "True"
      ]
     },
     "execution_count": 13,
     "metadata": {},
     "output_type": "execute_result"
    }
   ],
   "source": [
    "load_dotenv()"
   ]
  },
  {
   "cell_type": "code",
   "execution_count": 14,
   "metadata": {},
   "outputs": [],
   "source": [
    "llm = ChatOpenAI(\n",
    "    model = \"gpt-4-turbo\",\n",
    "    temperature=0,\n",
    "    include_response_headers=True,\n",
    "    streaming=True\n",
    ")"
   ]
  },
  {
   "cell_type": "code",
   "execution_count": 17,
   "metadata": {},
   "outputs": [],
   "source": [
    "chain = RetrievalQA.from_chain_type(\n",
    "    retriever= retriver,\n",
    "    llm = llm,\n",
    "    chain_type= \"stuff\",\n",
    ")"
   ]
  },
  {
   "cell_type": "code",
   "execution_count": 18,
   "metadata": {},
   "outputs": [],
   "source": [
    "query = \"Give summary of the dataset\"\n",
    "response = chain.invoke({\"query\": query})"
   ]
  },
  {
   "cell_type": "code",
   "execution_count": 20,
   "metadata": {},
   "outputs": [
    {
     "name": "stdout",
     "output_type": "stream",
     "text": [
      "I don't have access to the full dataset, but I can provide information about the two passengers mentioned:\n",
      "\n",
      "1. **Mr. Nicholas Nasser**:\n",
      "   - **PassengerId**: 123\n",
      "   - **Survived**: No (0)\n",
      "   - **Class**: Second (2)\n",
      "   - **Name**: Nasser, Mr. Nicholas\n",
      "   - **Gender**: Male\n",
      "   - **Age**: 32.5 years\n",
      "   - **Siblings/Spouses Aboard**: 1\n",
      "   - **Parents/Children Aboard**: 0\n",
      "   - **Ticket Number**: 237736\n",
      "   - **Fare**: 30.0708\n",
      "   - **Cabin**: Not specified\n",
      "   - **Embarked**: Cherbourg (C)\n",
      "\n",
      "2. **Mrs. Fatima Masselmani**:\n",
      "   - **PassengerId**: 20\n",
      "   - **Survived**: Yes (1)\n",
      "   - **Class**: Third (3)\n",
      "   - **Name**: Masselmani, Mrs. Fatima\n",
      "   - **Gender**: Female\n",
      "   - **Age**: Not specified\n",
      "   - **Siblings/Spouses Aboard**: 0\n",
      "   - **Parents/Children Aboard**: 0\n",
      "   - **Ticket Number**: 2649\n",
      "   - **Fare**: 7.225\n",
      "   - **Cabin**: Not specified\n",
      "   - **Embarked**: Cherbourg (C)\n",
      "\n",
      "These entries provide details about the passengers' survival status, class, personal information, and journey specifics.\n"
     ]
    }
   ],
   "source": [
    "print(response[\"result\"])"
   ]
  },
  {
   "cell_type": "code",
   "execution_count": 23,
   "metadata": {},
   "outputs": [],
   "source": [
    "query = 'How many males and females are there in the dataset?'\n",
    "response = chain.invoke({\"query\": query})"
   ]
  },
  {
   "cell_type": "code",
   "execution_count": 24,
   "metadata": {},
   "outputs": [
    {
     "name": "stdout",
     "output_type": "stream",
     "text": [
      "In the dataset provided, there is one female and one male.\n"
     ]
    }
   ],
   "source": [
    "print(response[\"result\"])"
   ]
  },
  {
   "cell_type": "code",
   "execution_count": null,
   "metadata": {},
   "outputs": [],
   "source": []
  }
 ],
 "metadata": {
  "kernelspec": {
   "display_name": "RAG",
   "language": "python",
   "name": "python3"
  },
  "language_info": {
   "codemirror_mode": {
    "name": "ipython",
    "version": 3
   },
   "file_extension": ".py",
   "mimetype": "text/x-python",
   "name": "python",
   "nbconvert_exporter": "python",
   "pygments_lexer": "ipython3",
   "version": "3.11.0"
  }
 },
 "nbformat": 4,
 "nbformat_minor": 2
}
